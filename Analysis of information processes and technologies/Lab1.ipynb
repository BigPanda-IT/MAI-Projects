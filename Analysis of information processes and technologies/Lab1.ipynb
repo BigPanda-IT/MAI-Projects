{
  "nbformat": 4,
  "nbformat_minor": 0,
  "metadata": {
    "colab": {
      "provenance": [],
      "toc_visible": true
    },
    "kernelspec": {
      "name": "python3",
      "display_name": "Python 3"
    },
    "language_info": {
      "name": "python"
    }
  },
  "cells": [
    {
      "cell_type": "markdown",
      "source": [
        "# Задача 1\n",
        "\n",
        "Реализовать решето Эратосфена"
      ],
      "metadata": {
        "id": "1g2xLp01RQw-"
      }
    },
    {
      "cell_type": "code",
      "source": [
        "def sieve_of_eratosthenes(n: int) -> list[int]:\n",
        "    numbers = [True] * (n + 1)\n",
        "    numbers[0], numbers[1] = False, False\n",
        "\n",
        "    for i in range(2, int(n**0.5) + 1):\n",
        "        if numbers[i]:\n",
        "            for j in range(i*i, n + 1, i):\n",
        "                numbers[j] = False\n",
        "\n",
        "    return [i for i, is_prime in enumerate(numbers) if is_prime]"
      ],
      "metadata": {
        "id": "Qg6q2JB8R4gA"
      },
      "execution_count": null,
      "outputs": []
    },
    {
      "cell_type": "code",
      "source": [
        "def prepare_answer(primes: list[int]) -> str:\n",
        "  return ', '.join(map(str, primes))"
      ],
      "metadata": {
        "id": "mwUETwTdVlAg"
      },
      "execution_count": null,
      "outputs": []
    },
    {
      "cell_type": "code",
      "execution_count": null,
      "metadata": {
        "colab": {
          "base_uri": "https://localhost:8080/"
        },
        "id": "m2Jrj_ArRNAC",
        "outputId": "29a9873f-d213-4398-a3d5-c45c4a350d78"
      },
      "outputs": [
        {
          "output_type": "stream",
          "name": "stdout",
          "text": [
            "Простые числа до 100:\n",
            " 2, 3, 5, 7, 11, 13, 17, 19, 23, 29, 31, 37, 41, 43, 47, 53, 59, 61, 67, 71, 73, 79, 83, 89, 97\n"
          ]
        }
      ],
      "source": [
        "if __name__ == \"__main__\":\n",
        "  n = 100\n",
        "  prime_numbers = sieve_of_eratosthenes(n)\n",
        "  print(f\"Простые числа до {n}:\\n {prepare_answer(prime_numbers)}\")"
      ]
    },
    {
      "cell_type": "markdown",
      "source": [
        "# Задача 2\n",
        "\n",
        "Определить координату пересечения диагоналей четырехугольника\n",
        "\n",
        "\n",
        "Шаги:\n",
        "\n",
        "0) Проверить корректность вершин и валидность четырехугольника\n",
        "1) Определить уравнения прямых (диагоналей)\n",
        "2) Определить точку пересечения прямых"
      ],
      "metadata": {
        "id": "dP2RXlAdWbyD"
      }
    },
    {
      "cell_type": "code",
      "source": [
        "class Point:\n",
        "  def __init__(self, x: float, y: float):\n",
        "    self.x = x\n",
        "    self.y = y"
      ],
      "metadata": {
        "id": "asy49JwiX9q6"
      },
      "execution_count": null,
      "outputs": []
    },
    {
      "cell_type": "code",
      "source": [
        "class Line:\n",
        "  def __init__(self, point_1: Point, point_2: Point):\n",
        "    self.is_vertical = point_1.x == point_2.x\n",
        "    if self.is_vertical:\n",
        "      self.x = point_1.x\n",
        "    else:\n",
        "      self.k = (point_1.y - point_2.y) / (point_1.x - point_2.x)\n",
        "      self.b = point_1.y - self.k * point_1.x\n",
        "\n",
        "  def is_point_on_line(self, point: Point, eps: float = 10**-5) -> bool:\n",
        "    if self.is_vertical and abs(point.x - self.x) < eps:\n",
        "      return True\n",
        "    elif abs(point.y - (self.k * point.x + self.b)) < eps:\n",
        "      return True\n",
        "    else:\n",
        "      return False\n",
        "\n",
        "  def get_intersection_coordinate(self, line_2) -> Point:\n",
        "    assert not self.is_vertical or not line_2.is_vertical, \"lines haven't the one intersection point\"\n",
        "\n",
        "    if self.is_vertical:\n",
        "      x = self.x\n",
        "      y = line_2.k * x + line_2.b\n",
        "    elif line_2.is_vertical:\n",
        "      x = line_2.x\n",
        "      y = self.k * x + self.b\n",
        "    else:\n",
        "      x = (line_2.b - self.b) / (self.k - line_2.k)\n",
        "      y = self.k * x + self.b\n",
        "\n",
        "    intersection_point = Point(x=x, y=y)\n",
        "    return intersection_point"
      ],
      "metadata": {
        "id": "1C9yL3_vbg_G"
      },
      "execution_count": null,
      "outputs": []
    },
    {
      "cell_type": "code",
      "source": [
        "class Quadrilateral:\n",
        "  def __init__(self, vertices: list[Point]):\n",
        "    assert len(vertices) == 4, \"List of vertices must contain 4 point\"\n",
        "\n",
        "    self.vert_1 = vertices[0]\n",
        "    self.vert_2 = vertices[1]\n",
        "    self.vert_3 = vertices[2]\n",
        "    self.vert_4 = vertices[3]\n",
        "\n",
        "    self.diagonal_1 = Line(vertices[0], vertices[2])\n",
        "    self.diagonal_2 = Line(vertices[1], vertices[3])\n",
        "\n",
        "    assert not self.diagonal_1.is_point_on_line(self.vert_2), \"it's not a quadrilateral\"\n",
        "    assert not self.diagonal_1.is_point_on_line(self.vert_4), \"it's not a quadrilateral\"\n",
        "    assert not self.diagonal_2.is_point_on_line(self.vert_1), \"it's not a quadrilateral\"\n",
        "    assert not self.diagonal_2.is_point_on_line(self.vert_3), \"it's not a quadrilateral\"\n"
      ],
      "metadata": {
        "id": "ifZww21otiCx"
      },
      "execution_count": null,
      "outputs": []
    },
    {
      "cell_type": "code",
      "source": [
        "if __name__ == \"__main__\":\n",
        "  vertices = [(3, 5), (4, -2), (0, -4), (-2, 3)]\n",
        "  # vertices = [(3, 6), (4, 5), (5, 4), (7, 6)] # it's a triangle\n",
        "  vertices = [Point(x=cords[0], y=cords[1]) for cords in vertices]\n",
        "\n",
        "  quadrilateral = Quadrilateral(vertices)\n",
        "  intersection_point = quadrilateral.diagonal_1.get_intersection_coordinate(quadrilateral.diagonal_2)\n",
        "  print(f\"x = {intersection_point.x}; y = {intersection_point.y}\")\n"
      ],
      "metadata": {
        "colab": {
          "base_uri": "https://localhost:8080/"
        },
        "id": "YWpGapmKX_R5",
        "outputId": "cb3a9ef6-a0b0-4a32-bf33-7ccfafa9e3f1"
      },
      "execution_count": null,
      "outputs": [
        {
          "output_type": "stream",
          "name": "stdout",
          "text": [
            "x = 1.3913043478260871; y = 0.17391304347826164\n"
          ]
        }
      ]
    },
    {
      "cell_type": "markdown",
      "source": [
        "# Задача 3\n",
        "\n",
        "Задача про максимальный объем воды в сосуде с тонкими стенками (при решении подразумевается, что высота стенок неотрицательна)\n",
        "\n",
        "Решение: дп + максимумы на префиксах/суффиксах\n"
      ],
      "metadata": {
        "id": "Y7-hi6ExbDhk"
      }
    },
    {
      "cell_type": "code",
      "source": [
        "def get_prefix_max(height: list[float]) -> list[float]:\n",
        "  prefix = [0]\n",
        "  for i in height:\n",
        "    prefix.append(max(prefix[-1], i))\n",
        "  return prefix"
      ],
      "metadata": {
        "id": "kHoHvOiTrz1K"
      },
      "execution_count": null,
      "outputs": []
    },
    {
      "cell_type": "code",
      "source": [
        "def get_suffix_max(height: list[float]) -> list[float]:\n",
        "  suffix = [0]\n",
        "  for i in range(len(height)-1, -1, -1):\n",
        "    suffix.append(max(suffix[-1], height[i]))\n",
        "  return suffix[::-1]"
      ],
      "metadata": {
        "id": "gFsCp4b0dG96"
      },
      "execution_count": null,
      "outputs": []
    },
    {
      "cell_type": "code",
      "source": [
        "if __name__ == \"__main__\":\n",
        "  walls = [6, 8, 4, 10, 9, 5, 8]\n",
        "  prefix, suffix = get_prefix_max(walls), get_suffix_max(walls)\n",
        "\n",
        "  counter = 0\n",
        "  for i in range(len(walls)):\n",
        "    counter += min(prefix[i+1], suffix[i+1])\n",
        "\n",
        "  print(counter)"
      ],
      "metadata": {
        "colab": {
          "base_uri": "https://localhost:8080/"
        },
        "id": "-hYcjpltb-uy",
        "outputId": "f2daf1a8-8239-44d9-d905-39d4f2d39354"
      },
      "execution_count": null,
      "outputs": [
        {
          "output_type": "stream",
          "name": "stdout",
          "text": [
            "47\n"
          ]
        }
      ]
    },
    {
      "cell_type": "markdown",
      "source": [
        "# Задача 4\n",
        "\n",
        "Расовая сегрегация Шеллинга"
      ],
      "metadata": {
        "id": "K_sTLa5gjPCz"
      }
    },
    {
      "cell_type": "code",
      "source": [
        "import matplotlib.pyplot as plt\n",
        "import numpy as np\n",
        "from matplotlib.colors import ListedColormap\n",
        "from matplotlib.animation import FuncAnimation\n",
        "import random\n",
        "import time"
      ],
      "metadata": {
        "id": "5TnzCnDcn5VV"
      },
      "execution_count": null,
      "outputs": []
    },
    {
      "cell_type": "code",
      "source": [
        "def get_random_coordinates(coordinates: dict[set[int]]) -> tuple[int, int]:\n",
        "  y = random.choice(list(coordinates.keys()))\n",
        "  x = random.choice(list(coordinates[y]))\n",
        "\n",
        "  coordinates[y].remove(x)\n",
        "  if len(coordinates[y]) == 0:\n",
        "    del coordinates[y]\n",
        "\n",
        "  return x, y"
      ],
      "metadata": {
        "id": "N0ZL6vM1rurc"
      },
      "execution_count": null,
      "outputs": []
    },
    {
      "cell_type": "code",
      "source": [
        "def setup_positions(field: list[list[int]], n: int, cell_types: tuple[str, int, int]) -> None:\n",
        "  coordinates = dict()\n",
        "  for i in range(n):\n",
        "    coordinates[i] = set(range(n))\n",
        "\n",
        "  for i in range(n*n//100):\n",
        "    for _, race_index, race_percent in cell_types:\n",
        "      for i in range(race_percent):\n",
        "        cords = get_random_coordinates(coordinates)\n",
        "        field[cords[1]][cords[0]] = race_index\n",
        "\n"
      ],
      "metadata": {
        "id": "JMRxfZvmnm4a"
      },
      "execution_count": null,
      "outputs": []
    },
    {
      "cell_type": "code",
      "source": [
        "def calculate_neighbors(field: list[list[int]], row: int, column: int, cell_val: int, n: int) -> int:\n",
        "  neighbors_counter = 0\n",
        "  for i in range(max(row-1, 0), min(row+2, n)):\n",
        "    for j in range(max(column-1, 0), min(column+2, n)):\n",
        "      if i == row and j == column:\n",
        "        continue\n",
        "      try:\n",
        "        if field[i][j] == cell_val:\n",
        "          neighbors_counter += 1\n",
        "      except:\n",
        "        pass\n",
        "  return neighbors_counter"
      ],
      "metadata": {
        "id": "vlkq-VmP0AXR"
      },
      "execution_count": null,
      "outputs": []
    },
    {
      "cell_type": "code",
      "source": [
        "def get_emty_and_unhappy_cells(field: list[list[int]], n: int, m: int) -> tuple[list[tuple[int, int]], list[tuple[int, int]]]:\n",
        "  empty_cords = []\n",
        "  unhappy_cords = []\n",
        "\n",
        "  for row in range(n):\n",
        "    for column in range(n):\n",
        "      cell_val = field[row][column]\n",
        "\n",
        "      if cell_val == 0:\n",
        "        empty_cords.append((column, row))\n",
        "        continue\n",
        "\n",
        "      neighbors_counter = calculate_neighbors(field, row, column, cell_val, n)\n",
        "      if neighbors_counter < m:\n",
        "        unhappy_cords.append((column, row))\n",
        "\n",
        "  return empty_cords, unhappy_cords"
      ],
      "metadata": {
        "id": "FH1lrX3euBqg"
      },
      "execution_count": null,
      "outputs": []
    },
    {
      "cell_type": "code",
      "source": [
        "def draw_field(field: list[list[int]], cell_types: tuple[str, int, int]) -> None:\n",
        "  cmap = ListedColormap([cell_type[0] for cell_type in cell_types])\n",
        "  data = np.array(field)\n",
        "\n",
        "  plt.figure(figsize=(4.5, 4.5))\n",
        "  plt.imshow(data, cmap=cmap, origin='upper')\n",
        "\n",
        "  plt.show()\n"
      ],
      "metadata": {
        "id": "IpsWZkPKm-7v"
      },
      "execution_count": null,
      "outputs": []
    },
    {
      "cell_type": "code",
      "source": [
        "def relocate_random_people(field: list[list[int]], empty_cords: list[tuple[int]], unhappy_cords: list[tuple[int]], m: int, n: int) -> None:\n",
        "  if len(unhappy_cords) == 0:\n",
        "    return\n",
        "  random_index_empty = random.randint(0, len(empty_cords)-1)\n",
        "  random_index_unhappy = random.randint(0, len(unhappy_cords)-1)\n",
        "\n",
        "  empty_cell = empty_cords.pop(random_index_empty)\n",
        "  unhappy_cell = unhappy_cords.pop(random_index_unhappy)\n",
        "  unhappy_value = field[unhappy_cell[1]][unhappy_cell[0]]\n",
        "\n",
        "  field[unhappy_cell[1]][unhappy_cell[0]] = 0\n",
        "  field[empty_cell[1]][empty_cell[0]] = unhappy_value\n",
        "  empty_cell, unhappy_cell = unhappy_cell, empty_cell\n",
        "  empty_cords.append(empty_cell)\n",
        "\n",
        "  if calculate_neighbors(field, row=unhappy_cell[1], column=unhappy_cell[0], cell_val=unhappy_value, n=n) < m:\n",
        "    unhappy_cords.append(unhappy_cell)\n",
        "\n",
        "  for i in range(max(unhappy_cell[1]-1, 0), min(unhappy_cell[1]+2, n)):\n",
        "    for j in range(max(unhappy_cell[0]-1, 0), min(unhappy_cell[0]+2, n)):\n",
        "      if calculate_neighbors(field, i, j, field[i][j], n) >= m:\n",
        "        for z in range(len(unhappy_cords)):\n",
        "          if unhappy_cords[z] == (j, i):\n",
        "            del unhappy_cords[z]\n",
        "            break\n",
        "\n",
        "\n",
        "  for i in range(max(empty_cell[1]-1, 0), min(empty_cell[1]+2, n)):\n",
        "    for j in range(max(empty_cell[0]-1, 0), min(empty_cell[0]+2, n)):\n",
        "      if field[i][j] == 0:\n",
        "        continue\n",
        "      if calculate_neighbors(field, i, j, field[i][j], n) < m and (j, i) not in unhappy_cords:\n",
        "        unhappy_cords.append((j, i))\n"
      ],
      "metadata": {
        "id": "cCdSqP3PykqO"
      },
      "execution_count": null,
      "outputs": []
    },
    {
      "cell_type": "code",
      "source": [
        "def do_iteration(field: list[list[int]], empty_cords: list[list[int]], unhappy_cords: list[list[int]], m: int, n: int) -> None:\n",
        "  relocate_random_people(field, empty_cords, unhappy_cords, m, n)"
      ],
      "metadata": {
        "id": "zySy--zhxXFX"
      },
      "execution_count": null,
      "outputs": []
    },
    {
      "cell_type": "code",
      "source": [
        "if __name__ == \"__main__\":\n",
        "  M = 3\n",
        "  field_size = 5\n",
        "  K = 50000\n",
        "\n",
        "  cell_types = ( #  Здесь можно прописать свои значения, главное реальные цвета (или их HEX), 3я колонка int и в сумме должна давать 100, а для gray больше ноля (должны существовать пустые клетки), вторая колонка от 0 и по порядку\n",
        "      (\"gray\", 0, 20),\n",
        "      (\"red\", 1, 40),\n",
        "      (\"blue\", 2, 20),\n",
        "      (\"yellow\", 3, 10),\n",
        "      (\"black\", 4, 10)\n",
        "  )\n",
        "\n",
        "  assert cell_types[0][1] == 0 and cell_types[0][2] > 0\n",
        "  assert sum([race[2] for race in cell_types]) == 100, \"Sum of percents must be 100\"\n",
        "  assert 1 <= field_size <= 50, \"Incorrect field size\"\n",
        "  assert 1 <= M <= 8, \"Incorrect M (neighborhood)\"\n",
        "  assert 1 <= K <= 1000000, \"Incorrect K (iteration count)\"\n",
        "\n",
        "\n",
        "  N = 10 * field_size  # ATTENTION: constant for pretty calculation\n",
        "  field = [[0 for i in range(N)] for j in range(N)]\n",
        "\n",
        "  setup_positions(field, N, cell_types)\n",
        "  empty_cords, unhappy_cords = get_emty_and_unhappy_cells(field, N, M)\n",
        "\n",
        "  draw_field(field, cell_types)\n",
        "  print(\"\\n\"*3)\n",
        "  for i in range(K):\n",
        "    do_iteration(field, empty_cords, unhappy_cords, M, N)\n",
        "  draw_field(field, cell_types)"
      ],
      "metadata": {
        "colab": {
          "base_uri": "https://localhost:8080/",
          "height": 872
        },
        "id": "hqGwCBXPiZ_q",
        "outputId": "1e8fd6f9-475a-4c31-a7b4-a6cb01d25b47"
      },
      "execution_count": null,
      "outputs": [
        {
          "output_type": "display_data",
          "data": {
            "text/plain": [
              "<Figure size 450x450 with 1 Axes>"
            ],
            "image/png": "[encoded data removed]"
          },
          "metadata": {}
        },
        {
          "output_type": "stream",
          "name": "stdout",
          "text": [
            "\n",
            "\n",
            "\n",
            "\n"
          ]
        },
        {
          "output_type": "display_data",
          "data": {
            "text/plain": [
              "<Figure size 450x450 with 1 Axes>"
            ],
            "image/png": "[encoded data removed]"
          },
          "metadata": {}
        }
      ]
    },
    {
      "cell_type": "code",
      "source": [],
      "metadata": {
        "id": "9FxFILpA8NIn"
      },
      "execution_count": null,
      "outputs": []
    }
  ]
}